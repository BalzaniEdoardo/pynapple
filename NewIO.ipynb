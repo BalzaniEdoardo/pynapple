{
 "cells": [
  {
   "cell_type": "code",
   "execution_count": 1,
   "id": "0f0d4ddb",
   "metadata": {},
   "outputs": [],
   "source": [
    "import numpy as np\n",
    "import pynapple as nap"
   ]
  },
  {
   "cell_type": "code",
   "execution_count": 2,
   "id": "da22da1f",
   "metadata": {},
   "outputs": [
    {
     "data": {
      "text/html": [
       "<pre style=\"white-space:pre;overflow-x:auto;line-height:normal;font-family:Menlo,'DejaVu Sans Mono',consolas,'Courier New',monospace\">📂 Project name : MyProject\n",
       "<span style=\"color: #0000ff; text-decoration-color: #0000ff\">├── </span>📂sub-A001\n",
       "<span style=\"color: #0000ff; text-decoration-color: #0000ff\">│   ├── </span>📂 <span style=\"color: #000080; text-decoration-color: #000080\">ses-01</span>\n",
       "<span style=\"color: #0000ff; text-decoration-color: #0000ff\">│   │   ├── </span>📂 derivatives\n",
       "<span style=\"color: #0000ff; text-decoration-color: #0000ff\">│   │   ├── </span>📂 pynapple\n",
       "<span style=\"color: #0000ff; text-decoration-color: #0000ff\">│   │   │   └── </span><span style=\"color: #008000; text-decoration-color: #008000\">spikes.npz  </span>    <span style=\"color: #008000; text-decoration-color: #008000\">| </span>      <span style=\"color: #008000; text-decoration-color: #008000\"> TsGroup</span>\n",
       "<span style=\"color: #0000ff; text-decoration-color: #0000ff\">│   │   └── </span>📂 analysis\n",
       "<span style=\"color: #0000ff; text-decoration-color: #0000ff\">│   │       └── </span><span style=\"color: #008000; text-decoration-color: #008000\">position.npz  </span>  <span style=\"color: #008000; text-decoration-color: #008000\">| </span>      <span style=\"color: #008000; text-decoration-color: #008000\"> TsdFrame</span>\n",
       "<span style=\"color: #0000ff; text-decoration-color: #0000ff\">│   └── </span>📂 <span style=\"color: #000080; text-decoration-color: #000080\">ses-02</span>\n",
       "<span style=\"color: #0000ff; text-decoration-color: #0000ff\">└── </span>📂sub-A006\n",
       "<span style=\"color: #0000ff; text-decoration-color: #0000ff\">    ├── </span>📂 <span style=\"color: #000080; text-decoration-color: #000080\">ses-01</span>\n",
       "<span style=\"color: #0000ff; text-decoration-color: #0000ff\">    └── </span>📂 <span style=\"color: #000080; text-decoration-color: #000080\">ses-02</span>\n",
       "<span style=\"color: #0000ff; text-decoration-color: #0000ff\">        └── </span><span style=\"color: #800080; text-decoration-color: #800080\">sub-A006_ses-02.nwb  </span>   <span style=\"color: #800080; text-decoration-color: #800080\">| </span>      <span style=\"color: #800080; text-decoration-color: #800080\"> NWB file</span>\n",
       "</pre>\n"
      ],
      "text/plain": [
       "📂 Project name : MyProject\n",
       "\u001b[94m├── \u001b[0m📂sub-A001\n",
       "\u001b[94m│   \u001b[0m\u001b[94m├── \u001b[0m📂 \u001b[34mses-01\u001b[0m\n",
       "\u001b[94m│   \u001b[0m\u001b[94m│   \u001b[0m\u001b[94m├── \u001b[0m📂 derivatives\n",
       "\u001b[94m│   \u001b[0m\u001b[94m│   \u001b[0m\u001b[94m├── \u001b[0m📂 pynapple\n",
       "\u001b[94m│   \u001b[0m\u001b[94m│   \u001b[0m\u001b[94m│   \u001b[0m\u001b[94m└── \u001b[0m\u001b[32mspikes.npz  \u001b[0m    \u001b[32m| \u001b[0m      \u001b[32m TsGroup\u001b[0m\n",
       "\u001b[94m│   \u001b[0m\u001b[94m│   \u001b[0m\u001b[94m└── \u001b[0m📂 analysis\n",
       "\u001b[94m│   \u001b[0m\u001b[94m│   \u001b[0m\u001b[94m    \u001b[0m\u001b[94m└── \u001b[0m\u001b[32mposition.npz  \u001b[0m  \u001b[32m| \u001b[0m      \u001b[32m TsdFrame\u001b[0m\n",
       "\u001b[94m│   \u001b[0m\u001b[94m└── \u001b[0m📂 \u001b[34mses-02\u001b[0m\n",
       "\u001b[94m└── \u001b[0m📂sub-A006\n",
       "\u001b[94m    \u001b[0m\u001b[94m├── \u001b[0m📂 \u001b[34mses-01\u001b[0m\n",
       "\u001b[94m    \u001b[0m\u001b[94m└── \u001b[0m📂 \u001b[34mses-02\u001b[0m\n",
       "\u001b[94m    \u001b[0m\u001b[94m    \u001b[0m\u001b[94m└── \u001b[0m\u001b[35msub-A006_ses-02.nwb  \u001b[0m   \u001b[35m| \u001b[0m      \u001b[35m NWB file\u001b[0m\n"
      ]
     },
     "metadata": {},
     "output_type": "display_data"
    },
    {
     "name": "stdout",
     "output_type": "stream",
     "text": [
      "\n"
     ]
    }
   ],
   "source": [
    "path = \"/mnt/home/gviejo/Dropbox/MyProject\"\n",
    "\n",
    "project = nap.load_project(path)\n",
    "\n",
    "print(project)"
   ]
  },
  {
   "cell_type": "code",
   "execution_count": 3,
   "id": "c2d3d240",
   "metadata": {},
   "outputs": [
    {
     "data": {
      "text/html": [
       "<pre style=\"white-space:pre;overflow-x:auto;line-height:normal;font-family:Menlo,'DejaVu Sans Mono',consolas,'Courier New',monospace\">📂 sub-A001\n",
       "<span style=\"color: #0000ff; text-decoration-color: #0000ff\">├── </span>📂 <span style=\"color: #000080; text-decoration-color: #000080\">ses-01</span>\n",
       "<span style=\"color: #0000ff; text-decoration-color: #0000ff\">│   ├── </span>📂 derivatives\n",
       "<span style=\"color: #0000ff; text-decoration-color: #0000ff\">│   ├── </span>📂 pynapple\n",
       "<span style=\"color: #0000ff; text-decoration-color: #0000ff\">│   │   └── </span><span style=\"color: #008000; text-decoration-color: #008000\">spikes.npz  </span>    <span style=\"color: #008000; text-decoration-color: #008000\">| </span>      <span style=\"color: #008000; text-decoration-color: #008000\"> TsGroup</span>\n",
       "<span style=\"color: #0000ff; text-decoration-color: #0000ff\">│   └── </span>📂 analysis\n",
       "<span style=\"color: #0000ff; text-decoration-color: #0000ff\">│       └── </span><span style=\"color: #008000; text-decoration-color: #008000\">position.npz  </span>  <span style=\"color: #008000; text-decoration-color: #008000\">| </span>      <span style=\"color: #008000; text-decoration-color: #008000\"> TsdFrame</span>\n",
       "<span style=\"color: #0000ff; text-decoration-color: #0000ff\">└── </span>📂 <span style=\"color: #000080; text-decoration-color: #000080\">ses-02</span>\n",
       "</pre>\n"
      ],
      "text/plain": [
       "📂 sub-A001\n",
       "\u001b[94m├── \u001b[0m📂 \u001b[34mses-01\u001b[0m\n",
       "\u001b[94m│   \u001b[0m\u001b[94m├── \u001b[0m📂 derivatives\n",
       "\u001b[94m│   \u001b[0m\u001b[94m├── \u001b[0m📂 pynapple\n",
       "\u001b[94m│   \u001b[0m\u001b[94m│   \u001b[0m\u001b[94m└── \u001b[0m\u001b[32mspikes.npz  \u001b[0m    \u001b[32m| \u001b[0m      \u001b[32m TsGroup\u001b[0m\n",
       "\u001b[94m│   \u001b[0m\u001b[94m└── \u001b[0m📂 analysis\n",
       "\u001b[94m│   \u001b[0m\u001b[94m    \u001b[0m\u001b[94m└── \u001b[0m\u001b[32mposition.npz  \u001b[0m  \u001b[32m| \u001b[0m      \u001b[32m TsdFrame\u001b[0m\n",
       "\u001b[94m└── \u001b[0m📂 \u001b[34mses-02\u001b[0m\n"
      ]
     },
     "metadata": {},
     "output_type": "display_data"
    },
    {
     "data": {
      "text/plain": []
     },
     "execution_count": 3,
     "metadata": {},
     "output_type": "execute_result"
    }
   ],
   "source": [
    "subject = project['sub-A001']\n",
    "\n",
    "subject"
   ]
  },
  {
   "cell_type": "code",
   "execution_count": 4,
   "id": "62543c4f",
   "metadata": {},
   "outputs": [
    {
     "data": {
      "text/html": [
       "<pre style=\"white-space:pre;overflow-x:auto;line-height:normal;font-family:Menlo,'DejaVu Sans Mono',consolas,'Courier New',monospace\">📂 ses-01\n",
       "<span style=\"color: #0000ff; text-decoration-color: #0000ff\">├── </span>📂 derivatives\n",
       "<span style=\"color: #0000ff; text-decoration-color: #0000ff\">├── </span>📂 pynapple\n",
       "<span style=\"color: #0000ff; text-decoration-color: #0000ff\">│   └── </span><span style=\"color: #008000; text-decoration-color: #008000\">spikes.npz  </span>    <span style=\"color: #008000; text-decoration-color: #008000\">| </span>      <span style=\"color: #008000; text-decoration-color: #008000\"> TsGroup</span>\n",
       "<span style=\"color: #0000ff; text-decoration-color: #0000ff\">└── </span>📂 analysis\n",
       "<span style=\"color: #0000ff; text-decoration-color: #0000ff\">    └── </span><span style=\"color: #008000; text-decoration-color: #008000\">position.npz  </span>  <span style=\"color: #008000; text-decoration-color: #008000\">| </span>      <span style=\"color: #008000; text-decoration-color: #008000\"> TsdFrame</span>\n",
       "</pre>\n"
      ],
      "text/plain": [
       "📂 ses-01\n",
       "\u001b[94m├── \u001b[0m📂 derivatives\n",
       "\u001b[94m├── \u001b[0m📂 pynapple\n",
       "\u001b[94m│   \u001b[0m\u001b[94m└── \u001b[0m\u001b[32mspikes.npz  \u001b[0m    \u001b[32m| \u001b[0m      \u001b[32m TsGroup\u001b[0m\n",
       "\u001b[94m└── \u001b[0m📂 analysis\n",
       "\u001b[94m    \u001b[0m\u001b[94m└── \u001b[0m\u001b[32mposition.npz  \u001b[0m  \u001b[32m| \u001b[0m      \u001b[32m TsdFrame\u001b[0m\n"
      ]
     },
     "metadata": {},
     "output_type": "display_data"
    },
    {
     "data": {
      "text/plain": []
     },
     "execution_count": 4,
     "metadata": {},
     "output_type": "execute_result"
    }
   ],
   "source": [
    "session = project['sub-A001']['ses-01']\n",
    "\n",
    "session"
   ]
  },
  {
   "cell_type": "code",
   "execution_count": 5,
   "id": "c6ae1e40",
   "metadata": {},
   "outputs": [
    {
     "data": {
      "text/plain": [
       "  Index    rate    group  location\n",
       "-------  ------  -------  ----------\n",
       "      0    7.3         0  adn\n",
       "      1    5.73        0  adn\n",
       "      2    8.12        0  adn\n",
       "      3    6.68        0  adn\n",
       "      4   10.77        0  adn\n",
       "      5   11           0  adn\n",
       "      6   16.52        0  adn\n",
       "      7    2.2         1  ca1\n",
       "      8    2.02        1  ca1\n",
       "      9    1.07        1  ca1\n",
       "     10    3.92        1  ca1\n",
       "     11    3.31        1  ca1\n",
       "     12    1.09        1  ca1\n",
       "     13    1.28        1  ca1\n",
       "     14    1.32        1  ca1"
      ]
     },
     "execution_count": 5,
     "metadata": {},
     "output_type": "execute_result"
    }
   ],
   "source": [
    "project['sub-A001']['ses-01']['pynapple']['spikes']"
   ]
  },
  {
   "cell_type": "code",
   "execution_count": 6,
   "id": "9a1b9c59",
   "metadata": {},
   "outputs": [
    {
     "data": {
      "text/html": [
       "<div>\n",
       "<style scoped>\n",
       "    .dataframe tbody tr th:only-of-type {\n",
       "        vertical-align: middle;\n",
       "    }\n",
       "\n",
       "    .dataframe tbody tr th {\n",
       "        vertical-align: top;\n",
       "    }\n",
       "\n",
       "    .dataframe thead th {\n",
       "        text-align: right;\n",
       "    }\n",
       "</style>\n",
       "<table border=\"1\" class=\"dataframe\">\n",
       "  <thead>\n",
       "    <tr style=\"text-align: right;\">\n",
       "      <th></th>\n",
       "      <th>rx</th>\n",
       "      <th>ry</th>\n",
       "      <th>rz</th>\n",
       "      <th>x</th>\n",
       "      <th>y</th>\n",
       "      <th>z</th>\n",
       "    </tr>\n",
       "    <tr>\n",
       "      <th>Time (s)</th>\n",
       "      <th></th>\n",
       "      <th></th>\n",
       "      <th></th>\n",
       "      <th></th>\n",
       "      <th></th>\n",
       "      <th></th>\n",
       "    </tr>\n",
       "  </thead>\n",
       "  <tbody>\n",
       "    <tr>\n",
       "      <th>670.64070</th>\n",
       "      <td>0.343163</td>\n",
       "      <td>5.207148</td>\n",
       "      <td>5.933598</td>\n",
       "      <td>-0.042857</td>\n",
       "      <td>0.425023</td>\n",
       "      <td>-0.195725</td>\n",
       "    </tr>\n",
       "    <tr>\n",
       "      <th>670.64900</th>\n",
       "      <td>0.346745</td>\n",
       "      <td>5.181029</td>\n",
       "      <td>5.917368</td>\n",
       "      <td>-0.043863</td>\n",
       "      <td>0.424850</td>\n",
       "      <td>-0.195110</td>\n",
       "    </tr>\n",
       "    <tr>\n",
       "      <th>670.65735</th>\n",
       "      <td>0.344035</td>\n",
       "      <td>5.155508</td>\n",
       "      <td>5.905679</td>\n",
       "      <td>-0.044853</td>\n",
       "      <td>0.424697</td>\n",
       "      <td>-0.194674</td>\n",
       "    </tr>\n",
       "    <tr>\n",
       "      <th>670.66565</th>\n",
       "      <td>0.322240</td>\n",
       "      <td>5.136537</td>\n",
       "      <td>5.892457</td>\n",
       "      <td>-0.045787</td>\n",
       "      <td>0.424574</td>\n",
       "      <td>-0.194342</td>\n",
       "    </tr>\n",
       "    <tr>\n",
       "      <th>670.67400</th>\n",
       "      <td>0.315836</td>\n",
       "      <td>5.120850</td>\n",
       "      <td>5.891577</td>\n",
       "      <td>-0.046756</td>\n",
       "      <td>0.424563</td>\n",
       "      <td>-0.194059</td>\n",
       "    </tr>\n",
       "    <tr>\n",
       "      <th>...</th>\n",
       "      <td>...</td>\n",
       "      <td>...</td>\n",
       "      <td>...</td>\n",
       "      <td>...</td>\n",
       "      <td>...</td>\n",
       "      <td>...</td>\n",
       "    </tr>\n",
       "    <tr>\n",
       "      <th>1199.96160</th>\n",
       "      <td>6.009812</td>\n",
       "      <td>3.665954</td>\n",
       "      <td>0.230562</td>\n",
       "      <td>0.011241</td>\n",
       "      <td>0.037891</td>\n",
       "      <td>-0.001479</td>\n",
       "    </tr>\n",
       "    <tr>\n",
       "      <th>1199.96995</th>\n",
       "      <td>6.014660</td>\n",
       "      <td>3.634619</td>\n",
       "      <td>0.260742</td>\n",
       "      <td>0.010974</td>\n",
       "      <td>0.038677</td>\n",
       "      <td>-0.002370</td>\n",
       "    </tr>\n",
       "    <tr>\n",
       "      <th>1199.97825</th>\n",
       "      <td>6.031694</td>\n",
       "      <td>3.617849</td>\n",
       "      <td>0.276835</td>\n",
       "      <td>0.010786</td>\n",
       "      <td>0.039410</td>\n",
       "      <td>-0.003156</td>\n",
       "    </tr>\n",
       "    <tr>\n",
       "      <th>1199.98660</th>\n",
       "      <td>6.040435</td>\n",
       "      <td>3.609446</td>\n",
       "      <td>0.287006</td>\n",
       "      <td>0.010661</td>\n",
       "      <td>0.040064</td>\n",
       "      <td>-0.003821</td>\n",
       "    </tr>\n",
       "    <tr>\n",
       "      <th>1199.99495</th>\n",
       "      <td>6.050059</td>\n",
       "      <td>3.609375</td>\n",
       "      <td>0.293275</td>\n",
       "      <td>0.010624</td>\n",
       "      <td>0.040568</td>\n",
       "      <td>-0.004435</td>\n",
       "    </tr>\n",
       "  </tbody>\n",
       "</table>\n",
       "<p>63527 rows × 6 columns</p>\n",
       "</div>"
      ],
      "text/plain": [
       "                  rx        ry        rz         x         y         z\n",
       "Time (s)                                                              \n",
       "670.64070   0.343163  5.207148  5.933598 -0.042857  0.425023 -0.195725\n",
       "670.64900   0.346745  5.181029  5.917368 -0.043863  0.424850 -0.195110\n",
       "670.65735   0.344035  5.155508  5.905679 -0.044853  0.424697 -0.194674\n",
       "670.66565   0.322240  5.136537  5.892457 -0.045787  0.424574 -0.194342\n",
       "670.67400   0.315836  5.120850  5.891577 -0.046756  0.424563 -0.194059\n",
       "...              ...       ...       ...       ...       ...       ...\n",
       "1199.96160  6.009812  3.665954  0.230562  0.011241  0.037891 -0.001479\n",
       "1199.96995  6.014660  3.634619  0.260742  0.010974  0.038677 -0.002370\n",
       "1199.97825  6.031694  3.617849  0.276835  0.010786  0.039410 -0.003156\n",
       "1199.98660  6.040435  3.609446  0.287006  0.010661  0.040064 -0.003821\n",
       "1199.99495  6.050059  3.609375  0.293275  0.010624  0.040568 -0.004435\n",
       "\n",
       "[63527 rows x 6 columns]"
      ]
     },
     "execution_count": 6,
     "metadata": {},
     "output_type": "execute_result"
    }
   ],
   "source": [
    "project['sub-A001']['ses-01']['analysis']['position']"
   ]
  },
  {
   "cell_type": "code",
   "execution_count": 7,
   "id": "38c33d45",
   "metadata": {},
   "outputs": [
    {
     "data": {
      "text/html": [
       "<div>\n",
       "<style scoped>\n",
       "    .dataframe tbody tr th:only-of-type {\n",
       "        vertical-align: middle;\n",
       "    }\n",
       "\n",
       "    .dataframe tbody tr th {\n",
       "        vertical-align: top;\n",
       "    }\n",
       "\n",
       "    .dataframe thead th {\n",
       "        text-align: right;\n",
       "    }\n",
       "</style>\n",
       "<table border=\"1\" class=\"dataframe\">\n",
       "  <thead>\n",
       "    <tr style=\"text-align: right;\">\n",
       "      <th></th>\n",
       "      <th>start</th>\n",
       "      <th>end</th>\n",
       "    </tr>\n",
       "  </thead>\n",
       "  <tbody>\n",
       "    <tr>\n",
       "      <th>0</th>\n",
       "      <td>0.0</td>\n",
       "      <td>1.0</td>\n",
       "    </tr>\n",
       "    <tr>\n",
       "      <th>1</th>\n",
       "      <td>3.0</td>\n",
       "      <td>6.0</td>\n",
       "    </tr>\n",
       "  </tbody>\n",
       "</table>\n",
       "</div>"
      ],
      "text/plain": [
       "   start  end\n",
       "0    0.0  1.0\n",
       "1    3.0  6.0"
      ]
     },
     "execution_count": 7,
     "metadata": {},
     "output_type": "execute_result"
    }
   ],
   "source": [
    "session = project['sub-A001']['ses-01']\n",
    "\n",
    "epoch = nap.IntervalSet(start = np.array([0, 3]), end = np.array([1, 6]))\n",
    "\n",
    "epoch"
   ]
  },
  {
   "cell_type": "code",
   "execution_count": 8,
   "id": "f24b7cdb",
   "metadata": {},
   "outputs": [
    {
     "data": {
      "text/html": [
       "<pre style=\"white-space:pre;overflow-x:auto;line-height:normal;font-family:Menlo,'DejaVu Sans Mono',consolas,'Courier New',monospace\">📂 ses-01\n",
       "<span style=\"color: #0000ff; text-decoration-color: #0000ff\">├── </span>📂 derivatives\n",
       "<span style=\"color: #0000ff; text-decoration-color: #0000ff\">├── </span>📂 pynapple\n",
       "<span style=\"color: #0000ff; text-decoration-color: #0000ff\">│   └── </span><span style=\"color: #008000; text-decoration-color: #008000\">spikes.npz  </span>    <span style=\"color: #008000; text-decoration-color: #008000\">| </span>      <span style=\"color: #008000; text-decoration-color: #008000\"> TsGroup</span>\n",
       "<span style=\"color: #0000ff; text-decoration-color: #0000ff\">├── </span>📂 analysis\n",
       "<span style=\"color: #0000ff; text-decoration-color: #0000ff\">│   └── </span><span style=\"color: #008000; text-decoration-color: #008000\">position.npz  </span>  <span style=\"color: #008000; text-decoration-color: #008000\">| </span>      <span style=\"color: #008000; text-decoration-color: #008000\"> TsdFrame</span>\n",
       "<span style=\"color: #0000ff; text-decoration-color: #0000ff\">└── </span><span style=\"color: #008000; text-decoration-color: #008000\">stimulus-fish.npz  </span>     <span style=\"color: #008000; text-decoration-color: #008000\">| </span>      <span style=\"color: #008000; text-decoration-color: #008000\"> IntervalSet</span>\n",
       "</pre>\n"
      ],
      "text/plain": [
       "📂 ses-01\n",
       "\u001b[94m├── \u001b[0m📂 derivatives\n",
       "\u001b[94m├── \u001b[0m📂 pynapple\n",
       "\u001b[94m│   \u001b[0m\u001b[94m└── \u001b[0m\u001b[32mspikes.npz  \u001b[0m    \u001b[32m| \u001b[0m      \u001b[32m TsGroup\u001b[0m\n",
       "\u001b[94m├── \u001b[0m📂 analysis\n",
       "\u001b[94m│   \u001b[0m\u001b[94m└── \u001b[0m\u001b[32mposition.npz  \u001b[0m  \u001b[32m| \u001b[0m      \u001b[32m TsdFrame\u001b[0m\n",
       "\u001b[94m└── \u001b[0m\u001b[32mstimulus-fish.npz  \u001b[0m     \u001b[32m| \u001b[0m      \u001b[32m IntervalSet\u001b[0m\n"
      ]
     },
     "metadata": {},
     "output_type": "display_data"
    },
    {
     "name": "stdout",
     "output_type": "stream",
     "text": [
      "\n"
     ]
    }
   ],
   "source": [
    "session.save(epoch, \"stimulus-fish\", \"Fish pictures to V1\")\n",
    "\n",
    "print(session)"
   ]
  },
  {
   "cell_type": "code",
   "execution_count": 9,
   "id": "e66c7303",
   "metadata": {},
   "outputs": [
    {
     "data": {
      "text/html": [
       "<div>\n",
       "<style scoped>\n",
       "    .dataframe tbody tr th:only-of-type {\n",
       "        vertical-align: middle;\n",
       "    }\n",
       "\n",
       "    .dataframe tbody tr th {\n",
       "        vertical-align: top;\n",
       "    }\n",
       "\n",
       "    .dataframe thead th {\n",
       "        text-align: right;\n",
       "    }\n",
       "</style>\n",
       "<table border=\"1\" class=\"dataframe\">\n",
       "  <thead>\n",
       "    <tr style=\"text-align: right;\">\n",
       "      <th></th>\n",
       "      <th>start</th>\n",
       "      <th>end</th>\n",
       "    </tr>\n",
       "  </thead>\n",
       "  <tbody>\n",
       "    <tr>\n",
       "      <th>0</th>\n",
       "      <td>0.0</td>\n",
       "      <td>1.0</td>\n",
       "    </tr>\n",
       "    <tr>\n",
       "      <th>1</th>\n",
       "      <td>3.0</td>\n",
       "      <td>6.0</td>\n",
       "    </tr>\n",
       "  </tbody>\n",
       "</table>\n",
       "</div>"
      ],
      "text/plain": [
       "   start  end\n",
       "0    0.0  1.0\n",
       "1    3.0  6.0"
      ]
     },
     "execution_count": 9,
     "metadata": {},
     "output_type": "execute_result"
    }
   ],
   "source": [
    "session['stimulus-fish']"
   ]
  },
  {
   "cell_type": "code",
   "execution_count": 10,
   "id": "a62646d1",
   "metadata": {},
   "outputs": [
    {
     "data": {
      "text/html": [
       "<pre style=\"white-space:pre;overflow-x:auto;line-height:normal;font-family:Menlo,'DejaVu Sans Mono',consolas,'Courier New',monospace\"><span style=\"color: #008000; text-decoration-color: #008000\">╭─ /mnt/home/gviejo/Dropbox/MyProject/sub-A001/ses-01/stimulus-fish.npz ─╮</span>\n",
       "<span style=\"color: #008000; text-decoration-color: #008000\">│</span> time : today                                                           <span style=\"color: #008000; text-decoration-color: #008000\">│</span>\n",
       "<span style=\"color: #008000; text-decoration-color: #008000\">│</span> info : Fish pictures to V1                                             <span style=\"color: #008000; text-decoration-color: #008000\">│</span>\n",
       "<span style=\"color: #008000; text-decoration-color: #008000\">╰────────────────────────────────────────────────────────────────────────╯</span>\n",
       "</pre>\n"
      ],
      "text/plain": [
       "\u001b[32m╭─\u001b[0m\u001b[32m /mnt/home/gviejo/Dropbox/MyProject/sub-A001/ses-01/stimulus-fish.npz \u001b[0m\u001b[32m─╮\u001b[0m\n",
       "\u001b[32m│\u001b[0m time : today                                                           \u001b[32m│\u001b[0m\n",
       "\u001b[32m│\u001b[0m info : Fish pictures to V1                                             \u001b[32m│\u001b[0m\n",
       "\u001b[32m╰────────────────────────────────────────────────────────────────────────╯\u001b[0m\n"
      ]
     },
     "metadata": {},
     "output_type": "display_data"
    },
    {
     "name": "stdout",
     "output_type": "stream",
     "text": [
      "\n"
     ]
    }
   ],
   "source": [
    "print(session.doc('stimulus-fish'))"
   ]
  },
  {
   "cell_type": "code",
   "execution_count": 11,
   "id": "2d16a937",
   "metadata": {},
   "outputs": [
    {
     "data": {
      "text/html": [
       "<pre style=\"white-space:pre;overflow-x:auto;line-height:normal;font-family:Menlo,'DejaVu Sans Mono',consolas,'Courier New',monospace\"><span style=\"color: #800000; text-decoration-color: #800000\">╭─ /mnt/home/gviejo/Dropbox/MyProject/sub-A001/ses-01/pynapple/spikes.npz ─╮</span>\n",
       "<span style=\"color: #800000; text-decoration-color: #800000\">│</span> No metadata                                                              <span style=\"color: #800000; text-decoration-color: #800000\">│</span>\n",
       "<span style=\"color: #800000; text-decoration-color: #800000\">╰──────────────────────────────────────────────────────────────────────────╯</span>\n",
       "</pre>\n"
      ],
      "text/plain": [
       "\u001b[31m╭─\u001b[0m\u001b[31m /mnt/home/gviejo/Dropbox/MyProject/sub-A001/ses-01/pynapple/spikes.npz \u001b[0m\u001b[31m─╮\u001b[0m\n",
       "\u001b[31m│\u001b[0m No metadata                                                              \u001b[31m│\u001b[0m\n",
       "\u001b[31m╰──────────────────────────────────────────────────────────────────────────╯\u001b[0m\n"
      ]
     },
     "metadata": {},
     "output_type": "display_data"
    },
    {
     "name": "stdout",
     "output_type": "stream",
     "text": [
      "\n"
     ]
    }
   ],
   "source": [
    "print(session['pynapple'].doc('spikes'))"
   ]
  }
 ],
 "metadata": {
  "kernelspec": {
   "display_name": "pynapple",
   "language": "python",
   "name": "pynapple"
  },
  "language_info": {
   "codemirror_mode": {
    "name": "ipython",
    "version": 3
   },
   "file_extension": ".py",
   "mimetype": "text/x-python",
   "name": "python",
   "nbconvert_exporter": "python",
   "pygments_lexer": "ipython3",
   "version": "3.9.15"
  }
 },
 "nbformat": 4,
 "nbformat_minor": 5
}
