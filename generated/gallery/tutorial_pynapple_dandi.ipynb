{
  "cells": [
    {
      "cell_type": "code",
      "execution_count": null,
      "metadata": {
        "collapsed": false
      },
      "outputs": [],
      "source": [
        "%matplotlib inline"
      ]
    },
    {
      "cell_type": "markdown",
      "metadata": {},
      "source": [
        "\nStreaming data from Dandi\n=========================\n\nThis script shows how to stream data from the [dandi archive](https://dandiarchive.org/) all the way to pynapple.\n\n> Warning **This tutorial is still under construction.**\n"
      ]
    },
    {
      "cell_type": "markdown",
      "metadata": {},
      "source": [
        "!!! warning\n    This tutorial uses seaborn and matplotlib for displaying the figure as well as the dandi package\n\n    You can install all with `pip install matplotlib seaborn dandi dandischema`\n\n"
      ]
    },
    {
      "cell_type": "markdown",
      "metadata": {},
      "source": [
        "***\nPrelude\n-------\n\nThe data used in this tutorial are hosted by the [DANDI](https://dandiarchive.org/dandiset/000003?page=3&sortOption=0&sortDir=-1&showDrafts=true&showEmpty=false&pos=21) archive and were used in this publication:\n__Senzai, Yuta, and Gy\u00f6rgy Buzs\u00e1ki. \"Physiological properties and behavioral correlates of hippocampal granule cells and mossy cells.\" Neuron 93.3 (2017): 691-704.__\n\n\n"
      ]
    },
    {
      "cell_type": "markdown",
      "metadata": {},
      "source": [
        "***\nDandi\n-----\nDandi allows you to stream data without downloading all the files. In this case the data extracted from the NWB file are stored in the nwb-cache folder.\n\n"
      ]
    },
    {
      "cell_type": "code",
      "execution_count": null,
      "metadata": {
        "collapsed": false
      },
      "outputs": [],
      "source": [
        "from pynwb import NWBHDF5IO\n\nfrom dandi.dandiapi import DandiAPIClient\nimport fsspec\nfrom fsspec.implementations.cached import CachingFileSystem\nimport h5py\n\n\n# ecephys, Buzsaki Lab (15.2 GB)\ndandiset_id, filepath = \"000003\", \"sub-YutaMouse56/sub-YutaMouse56_ses-YutaMouse56-160911_behavior+ecephys.nwb\"\n\n\nwith DandiAPIClient() as client:\n    asset = client.get_dandiset(dandiset_id, \"draft\").get_asset_by_path(filepath)\n    s3_url = asset.get_content_url(follow_redirects=1, strip_query=True)\n\n# first, create a virtual filesystem based on the http protocol\nfs=fsspec.filesystem(\"http\")\n\n# create a cache to save downloaded data to disk (optional)\nfs = CachingFileSystem(\n    fs=fs,\n    cache_storage=\"nwb-cache\",  # Local folder for the cache\n    )\n\n# next, open the file\nfile = h5py.File(fs.open(s3_url, \"rb\"))\nio = NWBHDF5IO(file=file, load_namespaces=True)\n\nprint(io)"
      ]
    },
    {
      "cell_type": "markdown",
      "metadata": {},
      "source": [
        "Pynapple\n--------\nIf opening the NWB works, you can start streaming data straight into pynapple with the `NWBFile` class.\n\n"
      ]
    },
    {
      "cell_type": "code",
      "execution_count": null,
      "metadata": {
        "collapsed": false
      },
      "outputs": [],
      "source": [
        "import pynapple as nap\nimport matplotlib.pyplot as plt\nimport seaborn as sns\nimport numpy as np\ncustom_params = {\"axes.spines.right\": False, \"axes.spines.top\": False}\nsns.set_theme(style=\"ticks\", palette = \"colorblind\", font_scale=1.5, rc=custom_params)\n\nnwb = nap.NWBFile(io.read())\n\nprint(nwb)"
      ]
    },
    {
      "cell_type": "markdown",
      "metadata": {},
      "source": [
        "We can load the spikes as a TsGroup for inspection.\n\n"
      ]
    },
    {
      "cell_type": "code",
      "execution_count": null,
      "metadata": {
        "collapsed": false
      },
      "outputs": [],
      "source": [
        "units = nwb['units']\n\nprint(units)"
      ]
    },
    {
      "cell_type": "markdown",
      "metadata": {},
      "source": [
        "Let's get all the neurons whose spikes sufficiently\n\n"
      ]
    },
    {
      "cell_type": "code",
      "execution_count": null,
      "metadata": {
        "collapsed": false
      },
      "outputs": [],
      "source": [
        "units = units.getby_threshold(\"rate\", 0.5)"
      ]
    },
    {
      "cell_type": "markdown",
      "metadata": {},
      "source": [
        "Let's do some cross-corrs during wake and non-REM sleep\nWe start by retrieveing the epochs\n\n"
      ]
    },
    {
      "cell_type": "code",
      "execution_count": null,
      "metadata": {
        "collapsed": false
      },
      "outputs": [],
      "source": [
        "epochs = nwb[\"states\"]\n\nprint(epochs)\n\n# In this case, it's a dictionnary of IntervalSet\nwake_ep = epochs[\"awake\"]\nnrem_ep = epochs[\"nrem\"]"
      ]
    },
    {
      "cell_type": "markdown",
      "metadata": {},
      "source": [
        "Let's replicate one result of the study. The authors report cross-correlograms between mossy cells and granule cells as a function of brain states (wake_ep vs nrem_ep in this case).\nFirst let's retrieve both sub-population\n\n"
      ]
    },
    {
      "cell_type": "code",
      "execution_count": null,
      "metadata": {
        "collapsed": false
      },
      "outputs": [],
      "source": [
        "mossy_cells = units.getby_category(\"cell_type\")[\"mossy cell\"]\ngranule_cells = units.getby_category(\"cell_type\")[\"granule cell\"]\n\nprint(mossy_cells)"
      ]
    },
    {
      "cell_type": "markdown",
      "metadata": {},
      "source": [
        "Let's compute their cross-correlogram during wake and nREM sleep.\nThe order in the tuple matters. In this case, granule cell is the reference unit.\n\n"
      ]
    },
    {
      "cell_type": "code",
      "execution_count": null,
      "metadata": {
        "collapsed": false
      },
      "outputs": [],
      "source": [
        "cc_wake = nap.compute_crosscorrelogram((granule_cells, mossy_cells), 0.002, 0.2, ep=wake_ep, norm=True)\ncc_nrem = nap.compute_crosscorrelogram((granule_cells, mossy_cells), 0.002, 0.2, ep=nrem_ep, norm=True)\n\nplt.figure(figsize=(16,10))\ngs = plt.GridSpec(len(mossy_cells), len(granule_cells))\nfor i, n in enumerate(mossy_cells.keys()):\n    for j, k in enumerate(granule_cells.keys()):\n        p = (k,n)\n        plt.subplot(gs[i,j])\n        tidx = cc_wake[p].index.values\n        plt.fill_between(tidx, np.zeros_like(cc_wake[p]), cc_wake[p].values, color = 'lightgrey')\n        plt.plot()\n        plt.grid()\n        plt.title(p)\n        if i == len(mossy_cells)-1: plt.xlabel(\"Time (s)\")\n        if j == 0: plt.ylabel(\"Norm.\")\n\nplt.tight_layout()\nplt.show()"
      ]
    },
    {
      "cell_type": "markdown",
      "metadata": {},
      "source": [
        "TODO : Run the stats for the connection, find a good example, display NREM\n\n"
      ]
    }
  ],
  "metadata": {
    "kernelspec": {
      "display_name": "Python 3",
      "language": "python",
      "name": "python3"
    },
    "language_info": {
      "codemirror_mode": {
        "name": "ipython",
        "version": 3
      },
      "file_extension": ".py",
      "mimetype": "text/x-python",
      "name": "python",
      "nbconvert_exporter": "python",
      "pygments_lexer": "ipython3",
      "version": "3.9.15"
    }
  },
  "nbformat": 4,
  "nbformat_minor": 0
}