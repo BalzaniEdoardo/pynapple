{
  "cells": [
    {
      "cell_type": "code",
      "execution_count": null,
      "metadata": {
        "collapsed": false
      },
      "outputs": [],
      "source": [
        "%matplotlib inline"
      ]
    },
    {
      "cell_type": "markdown",
      "metadata": {},
      "source": [
        "\nFastplotlib\n===========\n\nWorking with calcium data.\n\nFor the example dataset, we will be working with a recording of a freely-moving mouse imaged with a Miniscope (1-photon imaging). The area recorded for this experiment is the postsubiculum - a region that is known to contain head-direction cells, or cells that fire when the animal's head is pointing in a specific direction.\n\nThe NWB file for the example is hosted on [OSF](https://osf.io/sbnaw). We show below how to stream it.\n\nSee the [documentation](https://pynapple-org.github.io/pynapple/) of Pynapple for instructions on installing the package.\n\nThis tutorial was made by Sofia Skromne Carrasco and Guillaume Viejo.\n"
      ]
    },
    {
      "cell_type": "markdown",
      "metadata": {},
      "source": [
        "!!! warning\n    This tutorial uses seaborn and matplotlib for displaying the figure\n\n    You can install all with `pip install matplotlib seaborn tqdm`\n\nmkdocs_gallery_thumbnail_number = 1\n\nNow, import the necessary libraries:\n\n"
      ]
    },
    {
      "cell_type": "code",
      "execution_count": null,
      "metadata": {
        "collapsed": false
      },
      "outputs": [],
      "source": [
        "import pynapple as nap\nimport numpy as np\nimport fastplotlib as fpl\n#from PyQt6 import QtWidgets\nimport imageio.v3 as iio\nimport sys\n# mkdocs_gallery_thumbnail_path = '../_static/fastplotlib_demo.png'\n\nnwb = nap.load_file(\"/Users/gviejo/pynapple/Mouse32-220101.nwb\")\n\nunits = nwb['units'].getby_category(\"location\")['adn']\n\ntmp = units.to_tsd()\n\ntmp = np.vstack((tmp.index.values, tmp.values)).T \n\nfplot = fpl.Plot()\n\nfplot.add_scatter(tmp)\n\nfplot.graphics[0].cmap = \"jet\" \n\nfplot.graphics[0].cmap.values = tmp[:, 1]\n\nfplot.show()\n\n\nsys.exit()"
      ]
    },
    {
      "cell_type": "markdown",
      "metadata": {},
      "source": [
        "***\n\n"
      ]
    },
    {
      "cell_type": "code",
      "execution_count": null,
      "metadata": {
        "collapsed": false
      },
      "outputs": [],
      "source": [
        "#frames = iio.imread(\"/Users/gviejo/pynapple/A0670-221213_filtered.avi\")\n#frames = frames[:,:,:,0]\nframes = np.random.randn(10, 100, 100)"
      ]
    },
    {
      "cell_type": "markdown",
      "metadata": {},
      "source": [
        "***\n\n"
      ]
    },
    {
      "cell_type": "code",
      "execution_count": null,
      "metadata": {
        "collapsed": false
      },
      "outputs": [],
      "source": [
        "app = QtWidgets.QApplication([])"
      ]
    },
    {
      "cell_type": "markdown",
      "metadata": {},
      "source": [
        "***\n\n"
      ]
    },
    {
      "cell_type": "code",
      "execution_count": null,
      "metadata": {
        "collapsed": false
      },
      "outputs": [],
      "source": [
        "iw = fpl.ImageWidget(frames, cmap=\"gnuplot2\")\n\niw.show()\n\nimageVar2 = iw.widget.grab(iw.widget.rect()) #returns QPixMap\nimageVar2.save(\"../_static/fastplotlib_demo.png\") #again any file name/path and image type possible here\n\niw.close()\n\napp.exec()"
      ]
    }
  ],
  "metadata": {
    "kernelspec": {
      "display_name": "Python 3",
      "language": "python",
      "name": "python3"
    },
    "language_info": {
      "codemirror_mode": {
        "name": "ipython",
        "version": 3
      },
      "file_extension": ".py",
      "mimetype": "text/x-python",
      "name": "python",
      "nbconvert_exporter": "python",
      "pygments_lexer": "ipython3",
      "version": "3.10.12"
    }
  },
  "nbformat": 4,
  "nbformat_minor": 0
}